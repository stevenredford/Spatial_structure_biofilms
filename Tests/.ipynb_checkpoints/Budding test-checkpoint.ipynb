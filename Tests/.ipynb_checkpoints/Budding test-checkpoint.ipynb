{
 "cells": [
  {
   "cell_type": "code",
   "execution_count": 160,
   "metadata": {},
   "outputs": [],
   "source": [
    "import numpy as np\n",
    "import matplotlib.pyplot as plt\n",
    "import matplotlib as mp\n",
    "from scipy.signal import convolve2d\n",
    "from scipy.signal import convolve"
   ]
  },
  {
   "cell_type": "code",
   "execution_count": 161,
   "metadata": {},
   "outputs": [
    {
     "data": {
      "text/plain": [
       "'\\nThis notebook holds the tests of the budding functionality for the generalized spatial cosmo model based off of\\nthe work of Babak Momeni. We will start by building a search function for an isolated cell that is not near the \\nedge of the simulation grid. Then add functionality near the edges. In all cases we will try to get statistics \\nof budding directionality so we can not only have solid controlsd but hopefully find any rare bugs.\\n'"
      ]
     },
     "execution_count": 161,
     "metadata": {},
     "output_type": "execute_result"
    }
   ],
   "source": [
    "\"\"\"\n",
    "This notebook holds the tests of the budding functionality for the generalized spatial cosmo model based off of\n",
    "the work of Babak Momeni. We will start by building a search function for an isolated cell that is not near the \n",
    "edge of the simulation grid. Then add functionality near the edges. In all cases we will try to get statistics \n",
    "of budding directionality so we can have solid controls.\n",
    "\"\"\""
   ]
  },
  {
   "cell_type": "code",
   "execution_count": 230,
   "metadata": {},
   "outputs": [],
   "source": [
    "x,y,z = 1,2,0\n",
    "\n",
    "X = np.zeros((5,5,5))\n",
    "X[x,y,z] = 1\n",
    "\n",
    "budded = True\n",
    "\n",
    "X_original = X.copy()"
   ]
  },
  {
   "cell_type": "code",
   "execution_count": 231,
   "metadata": {},
   "outputs": [
    {
     "name": "stdout",
     "output_type": "stream",
     "text": [
      "[[0 0 0 1 1 2 2 2]\n",
      " [1 2 3 1 3 1 2 3]]\n"
     ]
    }
   ],
   "source": [
    "#Let's start with the basics. We will try to get the statistics right for a single isolated cell.\n",
    "\n",
    "if budded:\n",
    "    \n",
    "    \"\"\"\n",
    "    The general strategy will be to generate a list of adjacent points with respect to periodic boundary \n",
    "    conditions. Then, make a smaller list of these points that are empty. If there are no empty points in the \n",
    "    plane, we will search the plane above. Once a list of potential points has been generated, the cell will \n",
    "    randomly bud into one. \n",
    "    \"\"\"\n",
    "        \n",
    "    #the coordinates of the cell to be propagated\n",
    "    coords = np.array([x,y,z])\n",
    "    \n",
    "    success = True\n",
    "    \n",
    "    possibilities = np.where(X[int(coords[0]-1):int(coords[0]+2),int(coords[1]-1):int(coords[1]+2),int(coords[2])]==0)\n",
    "    \n",
    "    possibilities = np.asarray(possibilities)\n",
    "    possibilities[0,:] += coords[0] -1\n",
    "    possibilities[1,:] += coords[1] -1\n",
    "    n_possibilities = np.size(possibilities[0])\n",
    "    print(possibilities)\n",
    "    floor = 0\n",
    "    \n",
    "    if n_possibilities == 0:\n",
    "        print('trying one floor up')\n",
    "        \n",
    "        new_possibilities = np.where(X[int(coords[0]-1):int(coords[0]+2),int(coords[1]-1):int(coords[1]+2),int(coords[2]+1)]==0)\n",
    "        new_possibilities[0] += coords[0] -1\n",
    "        new_possibilities[1] += coords[1] -1\n",
    "        n_new_possibilities = np.size(new_possibilities)\n",
    "        \n",
    "        if n_new_possibilities == 0:\n",
    "            print('no available space, cannot bud')\n",
    "            success = False\n",
    "        else:\n",
    "            possibilities = new_possibilities\n",
    "            n_possibilities = n_new_possibilities\n",
    "            floor = 1\n",
    "            \n",
    "    if success:\n",
    "        index_to_bud = int(np.floor(np.random.rand()*n_possibilities))\n",
    "        x_temp = int(possibilities[0][index_to_bud])\n",
    "\n",
    "        X[int(possibilities[0][index_to_bud]),int(possibilities[1][index_to_bud]),int(coords[2]+floor)] = 1"
   ]
  },
  {
   "cell_type": "code",
   "execution_count": 232,
   "metadata": {},
   "outputs": [],
   "source": [
    "def periodic_image(coord,dimension):\n",
    "    return int(coord%dimension)"
   ]
  },
  {
   "cell_type": "code",
   "execution_count": 233,
   "metadata": {},
   "outputs": [],
   "source": [
    "def simple_plot(X,title,plane):\n",
    "    plt.imshow(X[:,:,plane],cmap = 'Greys')\n",
    "    plt.gca().set_yticklabels([])\n",
    "    plt.gca().set_xticklabels([])\n",
    "    plt.gca().set_yticks([])\n",
    "    plt.gca().set_xticks([])\n",
    "    plt.title(title)\n",
    "    plt.show()"
   ]
  },
  {
   "cell_type": "code",
   "execution_count": 234,
   "metadata": {},
   "outputs": [
    {
     "data": {
      "image/png": "[encoded data removed]",
      "text/plain": [
       "<Figure size 432x288 with 1 Axes>"
      ]
     },
     "metadata": {},
     "output_type": "display_data"
    },
    {
     "data": {
      "image/png": "[encoded data removed]",
      "text/plain": [
       "<Figure size 432x288 with 1 Axes>"
      ]
     },
     "metadata": {},
     "output_type": "display_data"
    }
   ],
   "source": [
    "title = 'original configuration'\n",
    "simple_plot(X_original,title,z)\n",
    "\n",
    "title = 'final configuration'\n",
    "simple_plot(X,title,z)"
   ]
  },
  {
   "cell_type": "code",
   "execution_count": 252,
   "metadata": {},
   "outputs": [],
   "source": [
    "#time for a little streamlining and some statistics\n",
    "def bud(x,y,z,X_og):\n",
    "    \n",
    "    X = X_og.copy()\n",
    "    \n",
    "    #the coordinates of the cell to be propagated\n",
    "    coords = np.array([x,y,z])\n",
    "    \n",
    "    shp = np.shape(X)\n",
    "    \n",
    "    \n",
    "    #make a 3x3 stencil to search with\n",
    "    xes = np.zeros(9)\n",
    "    yes = np.zeros(9)\n",
    "\n",
    "    xes[:3] = periodic_image(coords[0] - 1,shp[0])\n",
    "    xes[3:6] = periodic_image(coords[0],shp[0])\n",
    "    xes[6:] = periodic_image(coords[0] + 1,shp[0])\n",
    "\n",
    "    yes[0::3] = periodic_image(coords[1] - 1,shp[1])\n",
    "    yes[1::3] = periodic_image(coords[1],shp[1])\n",
    "    yes[2::3] = periodic_image(coords[1] + 1,shp[1])\n",
    "    \n",
    "    \n",
    "    poss_xvals = xes[X[xes.astype('int'),yes.astype('int'),int(coords[2])]==0]\n",
    "    poss_yvals = yes[X[xes.astype('int'),yes.astype('int'),int(coords[2])]==0]\n",
    "    \n",
    "    n_possibilities = np.size(poss_xvals)\n",
    "    floor = 0\n",
    "    \n",
    "    success = True\n",
    "\n",
    "    \n",
    "    if n_possibilities == 0:\n",
    "        #print('trying one floor up')\n",
    "        \n",
    "        new_poss_xvals = xes[X[xes.astype('int'),yes.astype('int'),int(coords[2] + 1)]==0]\n",
    "        new_poss_yvals = yes[X[xes.astype('int'),yes.astype('int'),int(coords[2] + 1)]==0]\n",
    "\n",
    "        n_new_possibilities = np.size(new_poss_xvals)\n",
    "        \n",
    "        if n_new_possibilities == 0:\n",
    "            print('no available space, cannot bud')\n",
    "            success = False\n",
    "        else:\n",
    "            poss_xvals = new_poss_xvals\n",
    "            poss_yvals = new_poss_yvals\n",
    "            n_possibilities = n_new_possibilities\n",
    "            floor = 1\n",
    "            \n",
    "    if success:\n",
    "        index_to_bud = int(np.floor(np.random.rand()*n_possibilities))\n",
    "\n",
    "        X[int(poss_xvals[index_to_bud]),int(poss_yvals[index_to_bud]),int(coords[2]+floor)] = 1\n",
    "        \n",
    "    return X"
   ]
  },
  {
   "cell_type": "code",
   "execution_count": 253,
   "metadata": {
    "scrolled": false
   },
   "outputs": [
    {
     "data": {
      "image/png": "[encoded data removed]",
      "text/plain": [
       "<Figure size 432x288 with 1 Axes>"
      ]
     },
     "metadata": {},
     "output_type": "display_data"
    },
    {
     "data": {
      "image/png": "[encoded data removed]",
      "text/plain": [
       "<Figure size 432x288 with 1 Axes>"
      ]
     },
     "metadata": {},
     "output_type": "display_data"
    }
   ],
   "source": [
    "#regular\n",
    "npts = 100\n",
    "\n",
    "x,y,z = 1,2,0\n",
    "\n",
    "X = np.zeros((5,5,5))\n",
    "X[x,y,z] = 1\n",
    "\n",
    "budded = True\n",
    "\n",
    "X_original = X.copy()\n",
    "\n",
    "for ii in range(npts):\n",
    "    \n",
    "    #print(ii)\n",
    "    X += bud(x,y,z,X_original)\n",
    "\n",
    "title = 'original configuration'\n",
    "simple_plot(X_original,title,z)\n",
    "\n",
    "title = 'configuration density n = %s'%npts\n",
    "simple_plot(X/npts,title,z)"
   ]
  },
  {
   "cell_type": "code",
   "execution_count": 254,
   "metadata": {},
   "outputs": [
    {
     "data": {
      "image/png": "[encoded data removed]",
      "text/plain": [
       "<Figure size 432x288 with 1 Axes>"
      ]
     },
     "metadata": {},
     "output_type": "display_data"
    },
    {
     "data": {
      "image/png": "[encoded data removed]",
      "text/plain": [
       "<Figure size 432x288 with 1 Axes>"
      ]
     },
     "metadata": {},
     "output_type": "display_data"
    }
   ],
   "source": [
    "#obstacle course!\n",
    "npts = 100\n",
    "\n",
    "x,y,z = 2,2,0\n",
    "\n",
    "X = np.zeros((5,5,5))\n",
    "X[x,y,z] = 1\n",
    "X[1,1,0] = 1\n",
    "X[3,2,0] = 1\n",
    "\n",
    "budded = True\n",
    "\n",
    "X_original = X.copy()\n",
    "\n",
    "for ii in range(npts):\n",
    "    \n",
    "    #print(ii)\n",
    "    X += bud(x,y,z,X_original)\n",
    "\n",
    "title = 'original configuration'\n",
    "simple_plot(X_original,title,z)\n",
    "\n",
    "title = 'configuration density n = %s'%npts\n",
    "simple_plot(X/npts,title,z)"
   ]
  },
  {
   "cell_type": "code",
   "execution_count": 255,
   "metadata": {},
   "outputs": [
    {
     "data": {
      "image/png": "[encoded data removed]",
      "text/plain": [
       "<Figure size 432x288 with 1 Axes>"
      ]
     },
     "metadata": {},
     "output_type": "display_data"
    },
    {
     "data": {
      "image/png": "[encoded data removed]",
      "text/plain": [
       "<Figure size 432x288 with 1 Axes>"
      ]
     },
     "metadata": {},
     "output_type": "display_data"
    }
   ],
   "source": [
    "#edge case\n",
    "npts = 100\n",
    "\n",
    "x,y,z = 1,4,0\n",
    "\n",
    "X = np.zeros((5,5,5))\n",
    "X[x,y,z] = 1\n",
    "\n",
    "budded = True\n",
    "\n",
    "X_original = X.copy()\n",
    "\n",
    "for ii in range(npts):\n",
    "    \n",
    "    #print(ii)\n",
    "    X += bud(x,y,z,X_original)\n",
    "\n",
    "title = 'original configuration'\n",
    "simple_plot(X_original,title,z)\n",
    "\n",
    "title = 'configuration density n = %s'%npts\n",
    "simple_plot(X/npts,title,z)"
   ]
  },
  {
   "cell_type": "code",
   "execution_count": 256,
   "metadata": {},
   "outputs": [
    {
     "data": {
      "image/png": "[encoded data removed]",
      "text/plain": [
       "<Figure size 432x288 with 1 Axes>"
      ]
     },
     "metadata": {},
     "output_type": "display_data"
    },
    {
     "data": {
      "image/png": "[encoded data removed]",
      "text/plain": [
       "<Figure size 432x288 with 1 Axes>"
      ]
     },
     "metadata": {},
     "output_type": "display_data"
    },
    {
     "data": {
      "image/png": "[encoded data removed]",
      "text/plain": [
       "<Figure size 432x288 with 1 Axes>"
      ]
     },
     "metadata": {},
     "output_type": "display_data"
    },
    {
     "data": {
      "image/png": "[encoded data removed]",
      "text/plain": [
       "<Figure size 432x288 with 1 Axes>"
      ]
     },
     "metadata": {},
     "output_type": "display_data"
    }
   ],
   "source": [
    "#double checking that Z works\n",
    "npts = 100\n",
    "\n",
    "x,y,z = 1,2,1\n",
    "\n",
    "X = np.zeros((5,5,5))\n",
    "X[x,y,z] = 1\n",
    "\n",
    "budded = True\n",
    "\n",
    "X_original = X.copy()\n",
    "\n",
    "for ii in range(npts):\n",
    "    \n",
    "    #print(ii)\n",
    "    X += bud(x,y,z,X_original)\n",
    "\n",
    "title = 'original configuration'\n",
    "simple_plot(X_original,title,z)\n",
    "\n",
    "title = 'configuration density n = %s'%npts\n",
    "simple_plot(X/npts,title,z)\n",
    "\n",
    "title = 'configuration density above n = %s'%npts\n",
    "simple_plot(X/npts,title,z+1)\n",
    "\n",
    "title = 'configuration density below n = %s'%npts\n",
    "simple_plot(X/npts,title,z-1)"
   ]
  },
  {
   "cell_type": "code",
   "execution_count": 258,
   "metadata": {},
   "outputs": [
    {
     "data": {
      "image/png": "[encoded data removed]",
      "text/plain": [
       "<Figure size 432x288 with 1 Axes>"
      ]
     },
     "metadata": {},
     "output_type": "display_data"
    },
    {
     "data": {
      "image/png": "[encoded data removed]",
      "text/plain": [
       "<Figure size 432x288 with 1 Axes>"
      ]
     },
     "metadata": {},
     "output_type": "display_data"
    },
    {
     "data": {
      "image/png": "[encoded data removed]",
      "text/plain": [
       "<Figure size 432x288 with 1 Axes>"
      ]
     },
     "metadata": {},
     "output_type": "display_data"
    },
    {
     "data": {
      "image/png": "[encoded data removed]",
      "text/plain": [
       "<Figure size 432x288 with 1 Axes>"
      ]
     },
     "metadata": {},
     "output_type": "display_data"
    }
   ],
   "source": [
    "#double checking that Z works\n",
    "npts = 100\n",
    "\n",
    "x,y,z = 1,2,1\n",
    "\n",
    "X = np.zeros((5,5,5))\n",
    "\n",
    "xes[:3] = periodic_image(coords[0] - 1,shp[0])\n",
    "xes[3:6] = periodic_image(coords[0],shp[0])\n",
    "xes[6:] = periodic_image(coords[0] + 1,shp[0])\n",
    "\n",
    "yes[0::3] = periodic_image(coords[1] - 1,shp[1])\n",
    "yes[1::3] = periodic_image(coords[1],shp[1])\n",
    "yes[2::3] = periodic_image(coords[1] + 1,shp[1])\n",
    "\n",
    "X[xes.astype('int'),yes.astype('int'),z]=1\n",
    "\n",
    "budded = True\n",
    "\n",
    "X_original = X.copy()\n",
    "\n",
    "for ii in range(npts):\n",
    "    \n",
    "    #print(ii)\n",
    "    X += bud(x,y,z,X_original)\n",
    "\n",
    "title = 'original configuration'\n",
    "simple_plot(X_original,title,z)\n",
    "\n",
    "title = 'configuration density n = %s'%npts\n",
    "simple_plot(X/npts,title,z)\n",
    "\n",
    "title = 'configuration density above n = %s'%npts\n",
    "simple_plot(X/npts,title,z+1)\n",
    "\n",
    "title = 'configuration density below n = %s'%npts\n",
    "simple_plot(X/npts,title,z-1)"
   ]
  },
  {
   "cell_type": "code",
   "execution_count": 240,
   "metadata": {},
   "outputs": [
    {
     "data": {
      "text/plain": [
       "\"\\nThat all went well (now that I've fixed the bugs:D). Let's move on to deal with periodic boundaries.\\n\""
      ]
     },
     "execution_count": 240,
     "metadata": {},
     "output_type": "execute_result"
    }
   ],
   "source": [
    "\"\"\"\n",
    "That all went well (now that I've fixed the bugs:D). Let's move on to deal with periodic boundaries.\n",
    "\"\"\""
   ]
  },
  {
   "cell_type": "code",
   "execution_count": 241,
   "metadata": {},
   "outputs": [],
   "source": [
    "x,y,z = 1,4,0\n",
    "\n",
    "X = np.zeros((5,5,5))\n",
    "X[x,y,z] = 1\n",
    "\n",
    "budded = True\n",
    "\n",
    "X_original = X.copy()"
   ]
  },
  {
   "cell_type": "code",
   "execution_count": 224,
   "metadata": {},
   "outputs": [],
   "source": [
    "#Let's start with the basics. We will try to get the statistics right for a single isolated cell.\n",
    "\n",
    "if budded:\n",
    "    \n",
    "    \"\"\"\n",
    "    The general strategy will be to generate a list of adjacent points with respect to periodic boundary \n",
    "    conditions. Then, make a smaller list of these points that are empty. If there are no empty points in the \n",
    "    plane, we will search the plane above. Once a list of potential points has been generated, the cell will \n",
    "    randomly bud into one. \n",
    "    \"\"\"\n",
    "        \n",
    "    #the coordinates of the cell to be propagated\n",
    "    coords = np.array([x,y,z])\n",
    "    \n",
    "    shp = np.shape(X)\n",
    "    \n",
    "    \n",
    "    #make a 3x3 stencil to search with\n",
    "    xes = np.zeros(9)\n",
    "    yes = np.zeros(9)\n",
    "\n",
    "    xes[:3] = periodic_image(coords[0] - 1,shp[0])\n",
    "    xes[3:6] = periodic_image(coords[0],shp[0])\n",
    "    xes[6:] = periodic_image(coords[0] + 1,shp[0])\n",
    "\n",
    "    yes[0::3] = periodic_image(coords[1] - 1,shp[1])\n",
    "    yes[1::3] = periodic_image(coords[1],shp[1])\n",
    "    yes[2::3] = periodic_image(coords[1] + 1,shp[1])\n",
    "    \n",
    "    \n",
    "    poss_xvals = xes[X[xes.astype('int'),yes.astype('int'),int(coords[2])]==0]\n",
    "    poss_yvals = yes[X[xes.astype('int'),yes.astype('int'),int(coords[2])]==0]\n",
    "    \n",
    "    n_possibilities = np.size(poss_xvals)\n",
    "    floor = 0\n",
    "    \n",
    "    success = True\n",
    "\n",
    "    \n",
    "    if n_possibilities == 0:\n",
    "        print('trying one floor up')\n",
    "        \n",
    "        new_poss_xvals = xes[X[xes.astype('int'),yes.astype('int'),int(coords[2] + 1)]==0]\n",
    "        new_poss_yvals = yes[X[xes.astype('int'),yes.astype('int'),int(coords[2] + 1)]==0]\n",
    "\n",
    "        n_new_possibilities = np.size(poss_xvals)\n",
    "        \n",
    "        if n_new_possibilities == 0:\n",
    "            print('no available space, cannot bud')\n",
    "            success = False\n",
    "        else:\n",
    "            poss_xvals = new_poss_xvals\n",
    "            poss_yvals = new_poss_yvals\n",
    "            n_possibilities = n_new_possibilities\n",
    "            floor = 1\n",
    "            \n",
    "    if success:\n",
    "        index_to_bud = int(np.floor(np.random.rand()*n_possibilities))\n",
    "\n",
    "        X[int(poss_xvals[index_to_bud]),int(poss_yvals[index_to_bud]),int(coords[2]+floor)] = 1"
   ]
  },
  {
   "cell_type": "code",
   "execution_count": 225,
   "metadata": {},
   "outputs": [
    {
     "data": {
      "image/png": "[encoded data removed]",
      "text/plain": [
       "<Figure size 432x288 with 1 Axes>"
      ]
     },
     "metadata": {},
     "output_type": "display_data"
    },
    {
     "data": {
      "image/png": "[encoded data removed]",
      "text/plain": [
       "<Figure size 432x288 with 1 Axes>"
      ]
     },
     "metadata": {},
     "output_type": "display_data"
    }
   ],
   "source": [
    "title = 'original configuration'\n",
    "simple_plot(X_original,title)\n",
    "\n",
    "title = 'final configuration'\n",
    "simple_plot(X,title)"
   ]
  },
  {
   "cell_type": "code",
   "execution_count": null,
   "metadata": {},
   "outputs": [],
   "source": []
  }
 ],
 "metadata": {
  "kernelspec": {
   "display_name": "Python 3",
   "language": "python",
   "name": "python3"
  },
  "language_info": {
   "codemirror_mode": {
    "name": "ipython",
    "version": 3
   },
   "file_extension": ".py",
   "mimetype": "text/x-python",
   "name": "python",
   "nbconvert_exporter": "python",
   "pygments_lexer": "ipython3",
   "version": "3.7.6"
  }
 },
 "nbformat": 4,
 "nbformat_minor": 4
}
