{
 "cells": [
  {
   "cell_type": "code",
   "execution_count": 11,
   "metadata": {},
   "outputs": [],
   "source": [
    "import numpy as np\n",
    "import matplotlib.pyplot as plt\n",
    "import matplotlib as mp\n",
    "from scipy.signal import convolve2d\n",
    "from scipy.signal import convolve\n",
    "from numba import jit"
   ]
  },
  {
   "cell_type": "code",
   "execution_count": 12,
   "metadata": {},
   "outputs": [
    {
     "data": {
      "text/plain": [
       "'\\n'"
      ]
     },
     "execution_count": 12,
     "metadata": {},
     "output_type": "execute_result"
    }
   ],
   "source": [
    "\"\"\"\n",
    "parameters here\n",
    "\"\"\"\n",
    "# update in time\n",
    "delta_t = 0.1\n",
    "\n",
    "# Diffusion coefficients\n",
    "DA = 0.028\n",
    "\n",
    "# grid size\n",
    "N = 11\n",
    "\n",
    "#initial condition\n",
    "S = np.zeros((2*N,2*N,N))\n",
    "S[2,N,0] = 1\n",
    "\n",
    "#try weird diffusion\n",
    "D_t = DA*np.ones((2*N,2*N,N))\n",
    "D_t[:,:,:3] = D_t[:,:,:3]*10\n",
    "\n",
    "# simulation steps\n",
    "N_simulation_steps = 1000\n",
    "\"\"\"\n",
    "\"\"\""
   ]
  },
  {
   "cell_type": "code",
   "execution_count": 13,
   "metadata": {},
   "outputs": [
    {
     "ename": "IndentationError",
     "evalue": "unexpected indent (<ipython-input-13-57150d3fbd9a>, line 29)",
     "output_type": "error",
     "traceback": [
      "\u001b[0;36m  File \u001b[0;32m\"<ipython-input-13-57150d3fbd9a>\"\u001b[0;36m, line \u001b[0;32m29\u001b[0m\n\u001b[0;31m    \"\"\"\u001b[0m\n\u001b[0m    ^\u001b[0m\n\u001b[0;31mIndentationError\u001b[0m\u001b[0;31m:\u001b[0m unexpected indent\n"
     ]
    }
   ],
   "source": [
    "\"\"\"\n",
    "def convolution_laplacian_3D(M):\n",
    "    #Make a big matrix to incorporate boundary conditions\n",
    "    #for this implementation, we will have periodic conditions in x and y and no flux in Z.\n",
    "    #This involves literally just adding rows such that the boundary conditions are satisfied.\n",
    "    #For periodic, the padded layer will be the value from the opposite side of the matrix,\n",
    "    #for no flux, the padded layer (-1) equals the (1) layer such that the central difference around (0) is 0\n",
    "    shp = np.shape(M)\n",
    "    \n",
    "    #make the padded matrix\n",
    "    M_padded = np.zeros((shp[0]+2,shp[1]+2,shp[2]+2))\n",
    "    \n",
    "    #put the original matrix inside\n",
    "    M_padded[1:-1,1:-1,1:-1] = M\n",
    "    \n",
    "    #pad the edges, starting with Z\n",
    "    M_padded[:,:,0] = M_padded[:,:,2]\n",
    "    M_padded[:,:,-1] = M_padded[:,:,-3]\n",
    "    \n",
    "    #pad the edges, X direction\n",
    "    M_padded[0,:,:] = M_padded[-2,:,:]\n",
    "    M_padded[-1,:,:] = M_padded[1,:,:]\n",
    "    \n",
    "    #pad the edges, Y direction\n",
    "    M_padded[:,0,:] = M_padded[:,-2,:]\n",
    "    M_padded[:,-1,:] = M_padded[:,1,:]\n",
    "    \n",
    "    \"\"\"\n",
    "    \"\"\"\n",
    "    #using the 27 point stencil\n",
    "    #k = 1/26*[[[2,3,2],[3,6,3],[2,3,2]],[[3,6,3],[6,-88,6],[3,6,3]],[[2,3,2],[3,6,3],[2,3,2]]]\n",
    "    \n",
    "    #7 point stencil\n",
    "    k = [[[0,0,0],[0,1,0],[0,0,0]],[[0,1,0],[1,-6,1],[0,1,0]],[[0,0,0],[0,1,0],[0,0,0]]]\n",
    "    \"\"\"\n",
    "    \"\"\"\n",
    "    \n",
    "    L = convolve(M_padded, k)\n",
    "    M_upd = L[2:-2,2:-2,2:-2]\n",
    "    \n",
    "    #L = convolve(M_padded, k, mode='same')\n",
    "    #M_upd = L[1:-1,1:-1,1:-1]\n",
    "    \n",
    "    return M_upd\n",
    "\"\"\""
   ]
  },
  {
   "cell_type": "code",
   "execution_count": 14,
   "metadata": {},
   "outputs": [],
   "source": [
    "@jit\n",
    "def convolution_laplacian_3D(M):\n",
    "    \"\"\"\n",
    "    Computes the Laplacian of a 3D array using a 7-point stencil with periodic boundary conditions\n",
    "    in x and y directions and no-flux boundary conditions in the z direction.\n",
    "\n",
    "    Parameters:\n",
    "        M (np.ndarray): Input 3D array.\n",
    "\n",
    "    Returns:\n",
    "        np.ndarray: The updated 3D array after applying the Laplacian.\n",
    "    \"\"\"\n",
    "    shp = M.shape\n",
    "    padded_shape = (shp[0] + 2, shp[1] + 2, shp[2] + 2)\n",
    "\n",
    "    # Initialize the padded matrix\n",
    "    M_padded = np.zeros(padded_shape, dtype=M.dtype)\n",
    "\n",
    "    # Place the original matrix inside the padded matrix\n",
    "    M_padded[1:-1, 1:-1, 1:-1] = M\n",
    "\n",
    "    # Apply no-flux boundary conditions in the z direction\n",
    "    M_padded[:, :, 0] = M_padded[:, :, 2]\n",
    "    M_padded[:, :, -1] = M_padded[:, :, -3]\n",
    "\n",
    "    # Apply periodic boundary conditions in the x direction\n",
    "    M_padded[0, :, :] = M_padded[-2, :, :]\n",
    "    M_padded[-1, :, :] = M_padded[1, :, :]\n",
    "\n",
    "    # Apply periodic boundary conditions in the y direction\n",
    "    M_padded[:, 0, :] = M_padded[:, -2, :]\n",
    "    M_padded[:, -1, :] = M_padded[:, 1, :]\n",
    "\n",
    "    # Create an output array for the Laplacian\n",
    "    L = np.zeros_like(M, dtype=M.dtype)\n",
    "\n",
    "    # 7-point stencil\n",
    "    for i in range(1, shp[0] + 1):\n",
    "        for j in range(1, shp[1] + 1):\n",
    "            for k in range(1, shp[2] + 1):\n",
    "                L[i - 1, j - 1, k - 1] = (\n",
    "                    -6 * M_padded[i, j, k]\n",
    "                    + M_padded[i + 1, j, k]\n",
    "                    + M_padded[i - 1, j, k]\n",
    "                    + M_padded[i, j + 1, k]\n",
    "                    + M_padded[i, j - 1, k]\n",
    "                    + M_padded[i, j, k + 1]\n",
    "                    + M_padded[i, j, k - 1]\n",
    "                )\n",
    "\n",
    "    return L"
   ]
  },
  {
   "cell_type": "code",
   "execution_count": 15,
   "metadata": {},
   "outputs": [],
   "source": [
    "def draw(M):\n",
    "    \"\"\"draw the concentrations\"\"\"\n",
    "    fig, ax = plt.subplots(1,3,figsize=(5.65,4))\n",
    "    ax[0].imshow(M[:,:,0], cmap='Greys',vmin = 0,vmax = np.amax(M))\n",
    "    ax[1].imshow(M[:,N,:], cmap='Greys',vmin = 0,vmax = np.amax(M))\n",
    "    ax[2].imshow(M[2,:,:], cmap='Greys',vmin = 0,vmax = np.amax(M))\n",
    "    ax[0].set_title('XY')\n",
    "    ax[1].set_title('XZ')\n",
    "    ax[2].set_title('YZ')\n",
    "    ax[0].axis('off')\n",
    "    ax[1].axis('off')\n",
    "    ax[2].axis('off')"
   ]
  },
  {
   "cell_type": "code",
   "execution_count": 16,
   "metadata": {},
   "outputs": [
    {
     "data": {
      "image/png": "[encoded data removed]",
      "text/plain": [
       "<Figure size 406.8x288 with 3 Axes>"
      ]
     },
     "metadata": {
      "needs_background": "light"
     },
     "output_type": "display_data"
    },
    {
     "data": {
      "image/png": "[encoded data removed]",
      "text/plain": [
       "<Figure size 406.8x288 with 3 Axes>"
      ]
     },
     "metadata": {
      "needs_background": "light"
     },
     "output_type": "display_data"
    },
    {
     "data": {
      "image/png": "[encoded data removed]",
      "text/plain": [
       "<Figure size 406.8x288 with 3 Axes>"
      ]
     },
     "metadata": {
      "needs_background": "light"
     },
     "output_type": "display_data"
    }
   ],
   "source": [
    "for t in range(N_simulation_steps):\n",
    "    if t%500 == 0:\n",
    "        draw(S)\n",
    "        #print(np.unique(S))\n",
    "    S += D_t*DA*convolution_laplacian_3D(S)\n",
    "    \n",
    "draw(S)\n",
    "\n"
   ]
  },
  {
   "cell_type": "code",
   "execution_count": null,
   "metadata": {},
   "outputs": [],
   "source": []
  },
  {
   "cell_type": "code",
   "execution_count": null,
   "metadata": {},
   "outputs": [],
   "source": []
  }
 ],
 "metadata": {
  "kernelspec": {
   "display_name": "Python 3",
   "language": "python",
   "name": "python3"
  },
  "language_info": {
   "codemirror_mode": {
    "name": "ipython",
    "version": 3
   },
   "file_extension": ".py",
   "mimetype": "text/x-python",
   "name": "python",
   "nbconvert_exporter": "python",
   "pygments_lexer": "ipython3",
   "version": "3.7.6"
  }
 },
 "nbformat": 4,
 "nbformat_minor": 4
}
