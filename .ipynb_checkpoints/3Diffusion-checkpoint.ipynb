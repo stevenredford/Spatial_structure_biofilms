{
 "cells": [
  {
   "cell_type": "code",
   "execution_count": 2,
   "metadata": {},
   "outputs": [],
   "source": [
    "import numpy as np\n",
    "import matplotlib.pyplot as plt\n",
    "import matplotlib as mp\n",
    "from scipy.signal import convolve2d\n",
    "from scipy.signal import convolve"
   ]
  },
  {
   "cell_type": "code",
   "execution_count": 2,
   "metadata": {},
   "outputs": [
    {
     "data": {
      "text/plain": [
       "'\\n'"
      ]
     },
     "execution_count": 2,
     "metadata": {},
     "output_type": "execute_result"
    }
   ],
   "source": [
    "\"\"\"\n",
    "parameters here\n",
    "\"\"\"\n",
    "# update in time\n",
    "delta_t = 0.1\n",
    "\n",
    "# Diffusion coefficients\n",
    "DA = 0.016\n",
    "\n",
    "# grid size\n",
    "N = 11\n",
    "\n",
    "#initial condition\n",
    "S = np.zeros((2*N,2*N,N))\n",
    "S[N,N,4] = 1\n",
    "\n",
    "#try weird diffusion\n",
    "D_t = DA*np.ones((2*N,2*N,N))\n",
    "D_t[:,:,:3] = D_t[:,:,:3]*10\n",
    "\n",
    "# simulation steps\n",
    "N_simulation_steps = 1000\n",
    "\"\"\"\n",
    "\"\"\""
   ]
  },
  {
   "cell_type": "code",
   "execution_count": 3,
   "metadata": {},
   "outputs": [],
   "source": [
    "def convolution_laplacian_3D(M):\n",
    "    #Make a big matrix to incorporate boundary conditions\n",
    "    #for this implementation, we will have periodic conditions in x and y and no flux in Z.\n",
    "    #This involves literally just adding rows such that the boundary conditions are satisfied.\n",
    "    #For periodic, the padded layer will be the value from the opposite side of the matrix,\n",
    "    #for no flux, the padded layer (-1) equals the (1) layer such that the central difference around (0) is 0\n",
    "    shp = np.shape(M)\n",
    "    \n",
    "    #make the padded matrix\n",
    "    M_padded = np.zeros((shp[0]+2,shp[1]+2,shp[2]+2))\n",
    "    \n",
    "    #put the original matrix inside\n",
    "    M_padded[1:-1,1:-1,1:-1] = M\n",
    "    \n",
    "    #pad the edges, starting with Z\n",
    "    M_padded[:,:,0] = M_padded[:,:,2]\n",
    "    M_padded[:,:,-1] = M_padded[:,:,-3]\n",
    "    \n",
    "    #pad the edges, X direction\n",
    "    M_padded[0,:,:] = M_padded[-2,:,:]\n",
    "    M_padded[-1,:,:] = M_padded[1,:,:]\n",
    "    \n",
    "    #pad the edges, Y direction\n",
    "    M_padded[:,0,:] = M_padded[:,-2,:]\n",
    "    M_padded[:,-1,:] = M_padded[:,1,:]\n",
    "    \n",
    "    \"\"\"\n",
    "    \"\"\"\n",
    "    #using the 27 point stencil\n",
    "    #k = 1/26*[[[2,3,2],[3,6,3],[2,3,2]],[[3,6,3],[6,-88,6],[3,6,3]],[[2,3,2],[3,6,3],[2,3,2]]]\n",
    "    \n",
    "    #7 point stencil\n",
    "    k = [[[0,0,0],[0,1,0],[0,0,0]],[[0,1,0],[1,-6,1],[0,1,0]],[[0,0,0],[0,1,0],[0,0,0]]]\n",
    "    \"\"\"\n",
    "    \"\"\"\n",
    "    \n",
    "    L = convolve(M_padded, k)\n",
    "    M_upd = L[2:-2,2:-2,2:-2]\n",
    "    \n",
    "    #L = convolve(M_padded, k, mode='same')\n",
    "    #M_upd = L[1:-1,1:-1,1:-1]\n",
    "    \n",
    "    return M_upd"
   ]
  },
  {
   "cell_type": "code",
   "execution_count": 4,
   "metadata": {},
   "outputs": [],
   "source": [
    "def draw(M):\n",
    "    \"\"\"draw the concentrations\"\"\"\n",
    "    fig, ax = plt.subplots(1,3,figsize=(5.65,4))\n",
    "    ax[0].imshow(M[:,:,int(N/2)], cmap='Greys')\n",
    "    ax[1].imshow(M[:,N,:], cmap='Greys')\n",
    "    ax[2].imshow(M[N,:,:], cmap='Greys')\n",
    "    ax[0].set_title('XY')\n",
    "    ax[1].set_title('XZ')\n",
    "    ax[2].set_title('YZ')\n",
    "    ax[0].axis('off')\n",
    "    ax[1].axis('off')\n",
    "    ax[2].axis('off')"
   ]
  },
  {
   "cell_type": "code",
   "execution_count": 5,
   "metadata": {},
   "outputs": [
    {
     "data": {
      "image/png": "[encoded data removed]",
      "text/plain": [
       "<Figure size 406.8x288 with 3 Axes>"
      ]
     },
     "metadata": {
      "needs_background": "light"
     },
     "output_type": "display_data"
    },
    {
     "data": {
      "image/png": "[encoded data removed]",
      "text/plain": [
       "<Figure size 406.8x288 with 3 Axes>"
      ]
     },
     "metadata": {
      "needs_background": "light"
     },
     "output_type": "display_data"
    }
   ],
   "source": [
    "for t in range(N_simulation_steps):\n",
    "    if t == 0:\n",
    "        draw(S)\n",
    "    S += D_t*convolution_laplacian_3D(S)\n",
    "    \n",
    "draw(S)\n",
    "\n"
   ]
  },
  {
   "cell_type": "code",
   "execution_count": null,
   "metadata": {},
   "outputs": [],
   "source": []
  }
 ],
 "metadata": {
  "kernelspec": {
   "display_name": "Python 3",
   "language": "python",
   "name": "python3"
  },
  "language_info": {
   "codemirror_mode": {
    "name": "ipython",
    "version": 3
   },
   "file_extension": ".py",
   "mimetype": "text/x-python",
   "name": "python",
   "nbconvert_exporter": "python",
   "pygments_lexer": "ipython3",
   "version": "3.7.6"
  }
 },
 "nbformat": 4,
 "nbformat_minor": 4
}
