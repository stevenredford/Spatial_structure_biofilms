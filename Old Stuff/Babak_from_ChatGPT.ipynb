{
 "cells": [
  {
   "cell_type": "code",
   "execution_count": 13,
   "metadata": {},
   "outputs": [],
   "source": [
    "import numpy as np\n",
    "from scipy.ndimage import convolve\n",
    "import matplotlib.pyplot as plt"
   ]
  },
  {
   "cell_type": "code",
   "execution_count": 14,
   "metadata": {},
   "outputs": [],
   "source": [
    "# Parameters\n",
    "rseed = 2417\n",
    "np.random.seed(rseed)  # Set the random seed\n",
    "\n",
    "# Reproduction and death rates (per hour)\n",
    "r1 = 0.51  # Rate for first population\n",
    "r2 = 0.44  # Rate for second population\n",
    "d1 = 0.0021  # Death rate for first population\n",
    "d2 = 0.015   # Death rate for second population\n",
    "\n",
    "# Nutrient consumption and release factors\n",
    "alphaA = 3.1  # Reproduction nutrient consumption (fmole per cell)\n",
    "alphaL = 5.4  # Reproduction nutrient consumption (fmole per cell)\n",
    "gammaA = 0.26  # Hyp release rate (fmole per cell per hour)\n",
    "\n",
    "# Nutrient levels and rates\n",
    "HgL = 1e6 * np.array([0, 0.58, 0.65, 0.73, 0.80, 1.07, 1000])  # Hyp levels (fmole/ml)\n",
    "gammaLH = np.array([0.52, 0.83, 0.78, 0.53, 0.38, 0.08, 0.08])  # Lys release rate (fmole/cell/hr)\n",
    "nL = 3.2  # Moser's power for Lys\n",
    "nA = 1.5  # Moser's power for Hyp\n",
    "\n",
    "# Monod constants\n",
    "KA = 1.3e6  # Hyp (fmole/ml)\n",
    "KL = 2.1e6  # Lys (fmole/ml)\n",
    "\n",
    "# Maximum uptake rates\n",
    "vmL = alphaL * r1  # Lys (fmole/hour)\n",
    "vmA = alphaA * r2  # Hyp (fmole/hour)\n",
    "\n",
    "# Michaelis-Menten constants\n",
    "KmmL = KL  # Lys\n",
    "KmmA = KA  # Hyp\n",
    "\n",
    "# Diffusion constants\n",
    "D0 = 360  # Agarose/agar (microns²/s)\n",
    "D1 = 20   # Cells (microns²/s)\n",
    "\n",
    "# Length scale and domain definitions\n",
    "c = 5       # Grid size for cells (microns)\n",
    "SC = 3      # Ratio of diffusion to cell grids\n",
    "SD = 4      # Ratio of diffusion grid (agar to cells)\n",
    "g = SC * c  # Grid size for diffusion in cells\n",
    "\n",
    "# Display translated initialization\n",
    "parameters = {\n",
    "    \"Reproduction Rates\": (r1, r2),\n",
    "    \"Death Rates\": (d1, d2),\n",
    "    \"Nutrient Consumption\": {\"alphaA\": alphaA, \"alphaL\": alphaL},\n",
    "    \"Diffusion Constants\": {\"D0\": D0, \"D1\": D1},\n",
    "    \"Grid Sizes\": {\"Cell Grid\": c, \"Diffusion Grid\": g},\n",
    "}"
   ]
  },
  {
   "cell_type": "code",
   "execution_count": 15,
   "metadata": {},
   "outputs": [],
   "source": [
    "# Define the solution domain based on the parameters\n",
    "cell_grid_size = c\n",
    "diffusion_grid_size = g\n",
    "\n",
    "# Define grid dimensions (example values for demonstration; MATLAB script likely specifies these later)\n",
    "domain_size_cells = (50, 50, 50)  # Number of cells in x, y, z directions\n",
    "domain_size_diffusion = tuple(SC * np.array(domain_size_cells))  # Diffusion grid size scales with cells\n",
    "\n",
    "# Initialize cell domain and diffusion grid\n",
    "cell_domain = np.zeros(domain_size_cells, dtype=int)  # Integer grid to track cell states (e.g., alive, dead)\n",
    "diffusion_grid = np.zeros(domain_size_diffusion, dtype=float)  # Float grid for nutrient concentrations\n",
    "\n",
    "# Initialize random placement of cells as a starting condition (example)\n",
    "num_initial_cells = 10\n",
    "initial_positions = np.random.randint(0, min(domain_size_cells), size=(num_initial_cells, 3))\n",
    "for pos in initial_positions:\n",
    "    cell_domain[tuple(pos)] = 1  # Mark cells as alive\n",
    "\n",
    "# Display example initializations\n",
    "initialization_summary = {\n",
    "    \"Cell Domain Shape\": cell_domain.shape,\n",
    "    \"Diffusion Grid Shape\": diffusion_grid.shape,\n",
    "    \"Initial Live Cell Positions\": initial_positions.tolist(),\n",
    "}\n"
   ]
  },
  {
   "cell_type": "code",
   "execution_count": 16,
   "metadata": {},
   "outputs": [],
   "source": [
    "\n",
    "# Define a 3D kernel for diffusion\n",
    "diffusion_kernel = np.array([\n",
    "    [[0, 0, 0], [0, 1, 0], [0, 0, 0]],\n",
    "    [[0, 1, 0], [1, -6, 1], [0, 1, 0]],\n",
    "    [[0, 0, 0], [0, 1, 0], [0, 0, 0]],\n",
    "])\n",
    "\n",
    "# Update diffusion grid (simplified for demonstration)\n",
    "def update_diffusion(diffusion_grid, D, dt):\n",
    "    return diffusion_grid + D * convolve(diffusion_grid, diffusion_kernel, mode='constant') * dt\n",
    "\n",
    "# Example update\n",
    "D = D0  # Diffusion constant\n",
    "dt = 0.1  # Time step\n",
    "diffusion_grid = update_diffusion(diffusion_grid, D, dt)\n"
   ]
  },
  {
   "cell_type": "code",
   "execution_count": 17,
   "metadata": {},
   "outputs": [],
   "source": [
    "def update_cells(cell_domain, diffusion_grid, reproduction_rate, death_rate):\n",
    "    new_cell_domain = cell_domain.copy()\n",
    "    for x in range(cell_domain.shape[0]):\n",
    "        for y in range(cell_domain.shape[1]):\n",
    "            for z in range(cell_domain.shape[2]):\n",
    "                if cell_domain[x, y, z] == 1:  # Cell alive\n",
    "                    # Simple nutrient-based growth condition\n",
    "                    nutrient = diffusion_grid[x, y, z]\n",
    "                    if nutrient > 1.0:  # Example threshold\n",
    "                        # Reproduce to a neighboring cell\n",
    "                        neighbors = [\n",
    "                            (x + dx, y + dy, z + dz)\n",
    "                            for dx, dy, dz in [(-1, 0, 0), (1, 0, 0), (0, -1, 0), (0, 1, 0), (0, 0, -1), (0, 0, 1)]\n",
    "                            if 0 <= x + dx < cell_domain.shape[0]\n",
    "                            and 0 <= y + dy < cell_domain.shape[1]\n",
    "                            and 0 <= z + dz < cell_domain.shape[2]\n",
    "                        ]\n",
    "                        for nx, ny, nz in neighbors:\n",
    "                            if new_cell_domain[nx, ny, nz] == 0:  # Empty neighbor\n",
    "                                new_cell_domain[nx, ny, nz] = 1\n",
    "                                break\n",
    "                elif cell_domain[x, y, z] == 0:  # Dead space\n",
    "                    if np.random.rand() < death_rate:  # Example death probability\n",
    "                        new_cell_domain[x, y, z] = -1  # Mark as dead\n",
    "    return new_cell_domain\n"
   ]
  },
  {
   "cell_type": "code",
   "execution_count": 18,
   "metadata": {},
   "outputs": [],
   "source": [
    "# Simulation parameters\n",
    "timesteps = 100\n",
    "for t in range(timesteps):\n",
    "    # Update diffusion\n",
    "    diffusion_grid = update_diffusion(diffusion_grid, D0, dt)\n",
    "    \n",
    "    # Update cells\n",
    "    cell_domain = update_cells(cell_domain, diffusion_grid, r1, d1)\n"
   ]
  },
  {
   "cell_type": "code",
   "execution_count": 20,
   "metadata": {},
   "outputs": [
    {
     "data": {
      "image/png": "[encoded data removed]",
      "text/plain": [
       "<Figure size 432x288 with 1 Axes>"
      ]
     },
     "metadata": {
      "needs_background": "light"
     },
     "output_type": "display_data"
    }
   ],
   "source": [
    "plt.imshow(cell_domain[:,:,0],cmap = 'hot')\n",
    "plt.gca().axis('off')\n",
    "#plt.title('CoSMO spatial distribution t=%s hours'%time[0],c='k')\n",
    "#plt.figure(figsize=(20,20))\n",
    "plt.show()"
   ]
  },
  {
   "cell_type": "code",
   "execution_count": null,
   "metadata": {},
   "outputs": [],
   "source": []
  }
 ],
 "metadata": {
  "kernelspec": {
   "display_name": "Python 3",
   "language": "python",
   "name": "python3"
  },
  "language_info": {
   "codemirror_mode": {
    "name": "ipython",
    "version": 3
   },
   "file_extension": ".py",
   "mimetype": "text/x-python",
   "name": "python",
   "nbconvert_exporter": "python",
   "pygments_lexer": "ipython3",
   "version": "3.7.6"
  }
 },
 "nbformat": 4,
 "nbformat_minor": 4
}
