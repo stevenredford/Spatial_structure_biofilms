{
 "cells": [
  {
   "cell_type": "code",
   "execution_count": 451,
   "metadata": {},
   "outputs": [],
   "source": [
    "import numpy as np\n",
    "import matplotlib.pyplot as plt\n",
    "import matplotlib as mp\n",
    "from scipy.signal import convolve2d\n",
    "from scipy.signal import convolve\n",
    "import copy\n",
    "import json\n",
    "import time as tm"
   ]
  },
  {
   "cell_type": "code",
   "execution_count": 452,
   "metadata": {},
   "outputs": [
    {
     "data": {
      "text/plain": [
       "'\\ncircle for n=3\\n\\ndependencies[0,0,0] = 1 #strain 1, uptake nutrient 1\\ndependencies[0,1,1] = 1 #strain 1, release nutrient 2\\n\\ndependencies[1,1,0] = 1 #strain 2, uptake nutrient 2\\ndependencies[1,2,1] = 1 #strain 2, release nutrient 3\\n\\ndependencies[2,2,0] = 1 #strain 3, uptake nutrient 3\\ndependencies[2,0,1] = 1 #strain 2, release nutrient 1\\n'"
      ]
     },
     "execution_count": 452,
     "metadata": {},
     "output_type": "execute_result"
    }
   ],
   "source": [
    "\"\"\"\n",
    "Changeable parameters\n",
    "\"\"\"\n",
    "filepath = 'cosmo_test_100225_'\n",
    "\n",
    "n_strains = 2\n",
    "n_nutrients = 2\n",
    "\n",
    "#The dependencies of strain the strains on each nutrient. Within each strain and nutrient, COLUMN 1 is UPTAKE, \n",
    "#COLUMN 2 is RELEASE. 1 means they do that function, 0 means they do not\n",
    "dependencies = np.zeros((n_strains,n_nutrients,2))\n",
    "\n",
    "\n",
    "#This initialization is for classic CoSMO type crossfeeding.\n",
    "dependencies[0,0,0] = 1 #strain 1, uptake nutrient 1\n",
    "dependencies[0,1,1] = 1 #strain 1, release nutrient 2\n",
    "\n",
    "dependencies[1,1,0] = 1 #strain 2, uptake nutrient 2\n",
    "dependencies[1,0,1] = 1 #strain 2, release nutrient 1\n",
    "\n",
    "#include this for cheater strain 3\n",
    "#dependencies[2,1,0] = 1 #strain 3, uptake nutrient 2\n",
    "\n",
    "#include this for cheater strain 3\n",
    "#dependencies[2,2,0] = 1 #strain 2, uptake nutrient 2\n",
    "\n",
    "\n",
    "\"\"\"\n",
    "circle for n=3\n",
    "\n",
    "dependencies[0,0,0] = 1 #strain 1, uptake nutrient 1\n",
    "dependencies[0,1,1] = 1 #strain 1, release nutrient 2\n",
    "\n",
    "dependencies[1,1,0] = 1 #strain 2, uptake nutrient 2\n",
    "dependencies[1,2,1] = 1 #strain 2, release nutrient 3\n",
    "\n",
    "dependencies[2,2,0] = 1 #strain 3, uptake nutrient 3\n",
    "dependencies[2,0,1] = 1 #strain 2, release nutrient 1\n",
    "\"\"\"\n"
   ]
  },
  {
   "cell_type": "code",
   "execution_count": 469,
   "metadata": {},
   "outputs": [
    {
     "name": "stdout",
     "output_type": "stream",
     "text": [
      "[3.6 3.6]\n"
     ]
    }
   ],
   "source": [
    "\"\"\"\n",
    "general variables for diffusion\n",
    "\"\"\"\n",
    "\n",
    "side_len = 750 #microns\n",
    "box_height = 1000 #microns\n",
    "cell_size = 5 #microns\n",
    "cell_to_diff_ratio = 2\n",
    "density = 1 #mm^-2\n",
    "\n",
    "t_final = 24 #hrs\n",
    "dt = 0.1 #hrs\n",
    "\n",
    "nsteps = int(t_final/dt)\n",
    "time = np.arange(nsteps)/dt + dt\n",
    "\n",
    "D = 360 #um^2/s\n",
    "DS = np.zeros(n_nutrients)\n",
    "DS[:] = D/np.square(cell_size*cell_to_diff_ratio) #cell_side^2/s\n",
    "print(DS)"
   ]
  },
  {
   "cell_type": "code",
   "execution_count": 470,
   "metadata": {},
   "outputs": [],
   "source": [
    "\"\"\"\n",
    "calculated quantities\n",
    "\"\"\"\n",
    "#the box to keep cells in\n",
    "cell_sides = int(side_len/cell_size)\n",
    "cell_height = int(box_height/cell_size)\n",
    "X = np.zeros((cell_sides,cell_sides,cell_sides))\n",
    "\n",
    "#the boxes for each nutrient\n",
    "diff_sides = int(cell_sides/cell_to_diff_ratio)\n",
    "diff_height = int(cell_height/cell_to_diff_ratio)\n",
    "\n",
    "#The blank matrix into which nutrients will go\n",
    "S = np.zeros((n_nutrients,diff_sides,diff_sides,diff_sides))\n",
    "indicies = np.arange(diff_sides)\n",
    "\n",
    "#lets make a distances array so that we don't have to calculate it each time\n",
    "side = np.arange(diff_sides)*cell_size*cell_to_diff_ratio\n",
    "#print(np.shape(side))\n",
    "SQ = np.add.outer(np.square(side),np.square(side))\n",
    "#print(np.shape(SQ))\n",
    "QB = np.add.outer(SQ,np.square(side))\n",
    "#print(np.shape(QB))\n",
    "dists = np.sqrt(QB)\n",
    "\n",
    "epsilon = 1\n",
    "dists[0,0,0] = epsilon"
   ]
  },
  {
   "cell_type": "code",
   "execution_count": 471,
   "metadata": {},
   "outputs": [
    {
     "data": {
      "image/png": "[encoded data removed]",
      "text/plain": [
       "<Figure size 432x288 with 2 Axes>"
      ]
     },
     "metadata": {
      "needs_background": "light"
     },
     "output_type": "display_data"
    }
   ],
   "source": [
    "plt.imshow(dists[0,:,:])\n",
    "plt.colorbar()\n",
    "plt.show()"
   ]
  },
  {
   "cell_type": "code",
   "execution_count": 472,
   "metadata": {},
   "outputs": [
    {
     "name": "stdout",
     "output_type": "stream",
     "text": [
      "(75, 75, 75)\n"
     ]
    },
    {
     "data": {
      "image/png": "[encoded data removed]",
      "text/plain": [
       "<Figure size 432x288 with 2 Axes>"
      ]
     },
     "metadata": {
      "needs_background": "light"
     },
     "output_type": "display_data"
    }
   ],
   "source": [
    "indicies = np.arange(diff_sides)\n",
    "shifted = np.zeros(np.shape(S[0,...]))\n",
    "\n",
    "my_point = (5,6,2)\n",
    "\n",
    "xes = np.abs(indicies-my_point[0])\n",
    "yes = np.abs(indicies-my_point[1])\n",
    "zes = np.abs(indicies-my_point[2])\n",
    "\n",
    "shifted = dists[xes[:,None,None],\n",
    "                yes[None,:,None],\n",
    "                zes[None,None,:]]\n",
    "print(np.shape(shifted))\n",
    "\n",
    "plt.imshow(shifted[0,:,:])\n",
    "plt.colorbar()\n",
    "plt.show()\n"
   ]
  },
  {
   "cell_type": "code",
   "execution_count": 473,
   "metadata": {},
   "outputs": [
    {
     "name": "stdout",
     "output_type": "stream",
     "text": [
      "0.10125000000000002\n"
     ]
    }
   ],
   "source": [
    "\"\"\"\n",
    "nutrient initialization \n",
    "\"\"\"\n",
    "#We are going to do something a little wild here. Because all of our CoSMO strains have the same genetic background\n",
    "#outside of the specific mutations, we are going to assume that the effect of growth of the various nutrients on\n",
    "#different strains is the same. That is, we can define how a nutrient affects cell growth and apply those same \n",
    "#rates to every other cell that depends on that nutrient. In this manner, we can write out all of the rates\n",
    "#for each nutrient once and then simply apply those constraints to a cell's growth by defining its dependencies. \n",
    "#This will further allow us to flexibly modulate the various interdependencies of different cell types.\n",
    "\n",
    "#Lys\n",
    "alphaL = 5.4 #nutrient required for reproduction (fmole)\n",
    "rL = 0.51 #Maximum growth rate (hr^-1)\n",
    "vmL = alphaL*rL #maximum uptake rate (fmole/hr)\n",
    "\"\"\"\n",
    "060125 The dt for diffusion is 1 second, so to ease calculations, we will put all of the parameters that are \n",
    "updated at the same time as diffusion in terms of seconds.\n",
    "\"\"\"\n",
    "vmL_s = vmL/(60^2) #maximum uptake rate (fmole/s)\n",
    "KL = 8.1e5*(0.005**3) #Monod constant (fmole/ml)\n",
    "print(KL)\n",
    "gammaL = 0.4 #release rate (fmole/(cell*hr))\n",
    "gammaL_s = gammaL/(60^2) #release rate (fmole/(cell*s))\n",
    "dL = 0.021 #death rate (hr^-1)\n",
    "\n",
    "#Ade\n",
    "alphaA = 3.1\n",
    "rA = 0.44\n",
    "vmA = alphaA*rA\n",
    "vmA_s = vmA/(60^2)\n",
    "KA = 5.3e5*(0.005**3)\n",
    "gammaA = 0.26\n",
    "gammaA_s = gammaA/(60^2)\n",
    "dA = 0.015 #death rate (hr^-1). Should this be an order of magnitude higher?\n",
    "\n",
    "\n",
    "alphas = [alphaL,alphaA]\n",
    "betas = [0.001,0.001]\n",
    "vm_list = [vmL,vmA]\n",
    "gamma_list = [gammaL,gammaA]\n",
    "km_list = [KL,KA]\n",
    "d = [dL,dA]\n",
    "r_list = [rL,rA]"
   ]
  },
  {
   "cell_type": "code",
   "execution_count": 474,
   "metadata": {},
   "outputs": [],
   "source": [
    "class Cell:\n",
    "    \"\"\"Hold the properties and variables for strains.\"\"\"\n",
    "    def __init__(self,\n",
    "                 x: int,\n",
    "                 y: int,\n",
    "                 z: int,\n",
    "                 dependencies: np.ndarray,\n",
    "                 d: float,\n",
    "                 typ: int,\n",
    "                 cell_to_diff_ratio: float\n",
    "                ):\n",
    "        \n",
    "        self.x = x\n",
    "        self.y = y\n",
    "        self.z = z\n",
    "        \n",
    "        #location in the nutrient grid\n",
    "        self.i = int(x // cell_to_diff_ratio)\n",
    "        self.j = int(y // cell_to_diff_ratio)\n",
    "        self.k = int(z // cell_to_diff_ratio)\n",
    "        \n",
    "        self.dependencies = dependencies\n",
    "        self.life_flag = True\n",
    "        self.quiescence_flag = False\n",
    "        self.death_rate = d\n",
    "        self.alphas = alphas\n",
    "        self.typ = typ\n",
    "        \n",
    "    \n",
    "    def create_daughter(self, x, y, z):\n",
    "        \"\"\"\n",
    "        Create a daughter cell at the specified position\n",
    "        Should return a new Cell instance with:\n",
    "        - Same dependencies and parameters as parent\n",
    "        - New position (x, y, z)\n",
    "        - Zero internal nutrients\n",
    "        \"\"\"\n",
    "        daughter = Cell(x,y,z,\n",
    "                        self.dependencies,\n",
    "                        self.death_rate,\n",
    "                        self.typ,\n",
    "                        cell_to_diff_ratio\n",
    "                       )\n",
    "        return daughter"
   ]
  },
  {
   "cell_type": "code",
   "execution_count": 475,
   "metadata": {},
   "outputs": [],
   "source": [
    "def iterate_life_and_death(cells,dt,alphas,km_list,r_list,n_nutrients,S,X):\n",
    "    \n",
    "    X_upd = np.zeros(np.shape(X))\n",
    "    new_cells = []\n",
    "    \n",
    "    #to do 100225: randomly loop through these\n",
    "    #loop over each cell and enumerate it's parameters\n",
    "    for idx, cell in enumerate(cells):\n",
    "        \n",
    "        cell = cells[idx]\n",
    "        typ = cell.typ\n",
    "        \n",
    "        if cell.quiescence_flag or not cell.life_flag:\n",
    "            continue\n",
    "\n",
    "        #try to kill it\n",
    "        rnd = np.random.rand()\n",
    "        prob_death = cell.death_rate*dt\n",
    "        if rnd<prob_death:\n",
    "            #print('Death')\n",
    "            cell.life_flag = False\n",
    "            continue\n",
    "\n",
    "\n",
    "        #assess the requirements for budding\n",
    "        budded = False\n",
    "        n_requirements = 0\n",
    "        which_dependency = np.zeros(n_nutrients)\n",
    "        for nn in range(n_nutrients):\n",
    "\n",
    "            if cell.dependencies[nn,0]==1: \n",
    "                which_dependency[n_requirements] = int(nn)\n",
    "                n_requirements += 1\n",
    "                \n",
    "        #decide if budding occurred\n",
    "        if n_requirements==0:\n",
    "\n",
    "            rnd = np.random.rand()\n",
    "            prob_division = r_list[int(typ-1)]*dt\n",
    "            #print('probability of division = %s' %prob_division)\n",
    "            \n",
    "            if rnd<prob_division:\n",
    "                #print('Division conditions met!')\n",
    "                budded = True\n",
    "\n",
    "\n",
    "        else: \n",
    "            \n",
    "            probabilities = np.zeros(int(n_requirements))\n",
    "            \n",
    "            for rr in range(int(n_requirements)):\n",
    "                \n",
    "                S_loc = S[int(which_dependency[rr]),cell.i,cell.j,cell.k]\n",
    "                probabilities[rr] = r_list[int(which_dependency[rr])]*S_loc/(S_loc + km_list[int(which_dependency[rr])])\n",
    "                \n",
    "                #print('repr_rate = %s'%(r_list[int(which_dependency[rr])]*S_loc/(S_loc + km_list[int(which_dependency[rr])])))\n",
    "                \n",
    "            rnd = np.random.rand()\n",
    "            prob_division = np.prod(probabilities)*dt\n",
    "            #print('probability of division = %s' %prob_division)\n",
    "            \n",
    "            if rnd<prob_division:\n",
    "                budded = True\n",
    "\n",
    "\n",
    "\n",
    "        \"\"\"\n",
    "        Now that we have decided if something has budded let us determine where the bud goes\n",
    "        \"\"\"\n",
    "        if budded:\n",
    "            bud_coords = get_bud_location(cell,X)\n",
    "            if bud_coords is not None:              \n",
    "                daughter = cell.create_daughter(bud_coords[0],bud_coords[1],bud_coords[2])\n",
    "                cell.S_internal = np.zeros(n_nutrients)\n",
    "                new_cells.append(daughter)\n",
    "                \n",
    "                #print(bud_coords)\n",
    "                #print(cell.typ)\n",
    "                \n",
    "                X_upd[bud_coords[0],bud_coords[1],bud_coords[2]] = cell.typ\n",
    "                                \n",
    "                                \n",
    "    return new_cells, X_upd"
   ]
  },
  {
   "cell_type": "code",
   "execution_count": 476,
   "metadata": {},
   "outputs": [],
   "source": [
    "def periodic_image(coord,dimension):\n",
    "    return int(coord%dimension)"
   ]
  },
  {
   "cell_type": "code",
   "execution_count": 477,
   "metadata": {},
   "outputs": [],
   "source": [
    "def get_bud_location(cell,X_og):\n",
    "    \n",
    "    \"\"\"\n",
    "    The general strategy will be to generate a list of adjacent points with respect to periodic boundary \n",
    "    conditions. Then, make a smaller list of these points that are empty. If there are no empty points in the \n",
    "    plane, we will search the plane above. Once a list of potential points has been generated, the cell will \n",
    "    randomly bud into one. \n",
    "    \"\"\"\n",
    "    X = X_og.copy()\n",
    "    \n",
    "    #the coordinates of the cell to be propagated\n",
    "    coords = np.array([cell.x,cell.y,cell.z])\n",
    "    \n",
    "    shp = np.shape(X)\n",
    "    \n",
    "    \n",
    "    #make a 3x3 stencil to search with\n",
    "    xes = np.zeros(9)\n",
    "    yes = np.zeros(9)\n",
    "\n",
    "    xes[:3] = periodic_image(coords[0] - 1,shp[0])\n",
    "    xes[3:6] = periodic_image(coords[0],shp[0])\n",
    "    xes[6:] = periodic_image(coords[0] + 1,shp[0])\n",
    "\n",
    "    yes[0::3] = periodic_image(coords[1] - 1,shp[1])\n",
    "    yes[1::3] = periodic_image(coords[1],shp[1])\n",
    "    yes[2::3] = periodic_image(coords[1] + 1,shp[1])\n",
    "    \n",
    "    \n",
    "    poss_xvals = xes[X[xes.astype('int'),yes.astype('int'),int(coords[2])]==0]\n",
    "    poss_yvals = yes[X[xes.astype('int'),yes.astype('int'),int(coords[2])]==0]\n",
    "    \n",
    "    n_possibilities = np.size(poss_xvals)\n",
    "    floor = 0\n",
    "    \n",
    "    success = True\n",
    "\n",
    "    \n",
    "    if n_possibilities == 0:\n",
    "        #print('trying one floor up')\n",
    "        \n",
    "        new_poss_xvals = xes[X[xes.astype('int'),yes.astype('int'),int(coords[2] + 1)]==0]\n",
    "        new_poss_yvals = yes[X[xes.astype('int'),yes.astype('int'),int(coords[2] + 1)]==0]\n",
    "\n",
    "        n_new_possibilities = np.size(new_poss_xvals)\n",
    "        \n",
    "        if n_new_possibilities == 0:\n",
    "            #print('no available space, cannot bud')\n",
    "            cell.quiescence_flag = True\n",
    "            success = False\n",
    "        else:\n",
    "            poss_xvals = new_poss_xvals\n",
    "            poss_yvals = new_poss_yvals\n",
    "            n_possibilities = n_new_possibilities\n",
    "            floor = 1\n",
    "            \n",
    "    if success:\n",
    "        #print('Budding!')\n",
    "        index_to_bud = int(np.floor(np.random.rand()*n_possibilities))\n",
    "        bud_coords = [int(poss_xvals[index_to_bud]),int(poss_yvals[index_to_bud]),int(coords[2]+floor)]\n",
    "        \n",
    "        return bud_coords\n",
    "    \n",
    "    else: \n",
    "        return None"
   ]
  },
  {
   "cell_type": "code",
   "execution_count": 478,
   "metadata": {},
   "outputs": [],
   "source": [
    "def update_nutrients(S,DS,diff_sides,distances,n_nutrients,cells,X,dt_diff,alphas,betas,gamma_list):\n",
    "    \n",
    "    #To begin, let us assume that we re-calculate the steady state nutrient every time. \n",
    "    #S = np.zeros((n_nutrients,diff_sides,diff_sides,diff_sides))\n",
    "    \n",
    "    for nn in range(n_nutrients):\n",
    "        l = np.sqrt(DS[nn]/betas[nn])\n",
    "        prefac = gamma_list[nn]/(4*DS[nn]*np.pi)\n",
    "        for idx, cell in enumerate(cells):\n",
    "            if cell.dependencies[nn,1]:\n",
    "                xes = np.abs(indicies-cell.i)\n",
    "                yes = np.abs(indicies-cell.j)\n",
    "                zes = np.abs(indicies-cell.k)\n",
    "\n",
    "                r = distances[xes[:,None,None],\n",
    "                            yes[None,:,None],\n",
    "                            zes[None,None,:]]\n",
    "\n",
    "                G_of_r = prefac*np.power(r,-1)*np.exp(-r/l)\n",
    "\n",
    "                S[nn,:,:,:] += G_of_r\n",
    "            else:\n",
    "                continue\n",
    "        \n",
    "    \n",
    "    return S"
   ]
  },
  {
   "cell_type": "code",
   "execution_count": 479,
   "metadata": {},
   "outputs": [],
   "source": [
    "def save_data(X,S,time,dt_cell,filepath):\n",
    "    \n",
    "    current_timepoint = {\n",
    "        \n",
    "        'time' : int(time[tt]*dt_cell),\n",
    "        \n",
    "        'X' : X,\n",
    "        \n",
    "        'S' : S\n",
    "        \n",
    "        \n",
    "    }\n",
    "    \n",
    "    fp = filepath + 'time_%s'%int(time[tt]*dt_cell) + 'hours'\n",
    "    \n",
    "    #with open('data.json', 'w') as fp:\n",
    "    #    json.dump(current_timepoint, fp)\n",
    "\n",
    "    np.save(fp,current_timepoint)"
   ]
  },
  {
   "cell_type": "code",
   "execution_count": 480,
   "metadata": {},
   "outputs": [],
   "source": [
    "def initialize_population(side_len,cell_size,n_strains,density,n_nutrients,dependencies,alphas,d,X,cell_to_diff_ratio):\n",
    "    \n",
    "    n_cells = int(density*cell_size**2*side_len**2/1e6)\n",
    "    cell_sides = side_len/cell_size\n",
    "    \n",
    "    #seed in a box of width side_len/4\n",
    "    width = int(cell_sides/4)\n",
    "    offset = int(cell_sides/2 - cell_sides/8)\n",
    "    \n",
    "    initial_cells = [None]*n_cells\n",
    "    \n",
    "    for nn in range(n_cells):\n",
    "        x = int(width*np.random.rand()) + offset\n",
    "        y = int(width*np.random.rand()) + offset\n",
    "        z = 0 #int(width*np.random.rand())\n",
    "        \n",
    "        #pick which strain this position will be\n",
    "        strain_identifier = int(np.floor(np.random.rand()*n_strains))\n",
    "        \n",
    "        X[x,y,z] = int(strain_identifier+1)\n",
    "        #print(strain_identifier)\n",
    "        \n",
    "        initial_cells[nn] = Cell(x,y,z,\n",
    "                        dependencies[strain_identifier,:,:],\n",
    "                        d[strain_identifier],\n",
    "                        int(strain_identifier+1),\n",
    "                        cell_to_diff_ratio\n",
    "                       )\n",
    "        \n",
    "    return initial_cells, X"
   ]
  },
  {
   "cell_type": "code",
   "execution_count": 481,
   "metadata": {},
   "outputs": [
    {
     "data": {
      "text/plain": [
       "\"\\n#nutrient field calculation test\\n#initialize\\n\\ncells,X = initialize_population(side_len,cell_size,n_strains,density,n_nutrients,dependencies,alphas,d,X,cell_to_diff_ratio)\\n\\nS = update_nutrients(S,DS,diff_sides,dists,n_nutrients,cells,X,dt_diff,alphas,betas,gamma_list)\\n\\ntitle = 'test'\\ndraw_config_conc(X,S,n_nutrients,title)\\n\""
      ]
     },
     "execution_count": 481,
     "metadata": {},
     "output_type": "execute_result"
    }
   ],
   "source": [
    "\"\"\"\n",
    "#nutrient field calculation test\n",
    "#initialize\n",
    "\n",
    "cells,X = initialize_population(side_len,cell_size,n_strains,density,n_nutrients,dependencies,alphas,d,X,cell_to_diff_ratio)\n",
    "\n",
    "S = update_nutrients(S,DS,diff_sides,dists,n_nutrients,cells,X,dt_diff,alphas,betas,gamma_list)\n",
    "\n",
    "title = 'test'\n",
    "draw_config_conc(X,S,n_nutrients,title)\n",
    "\"\"\""
   ]
  },
  {
   "cell_type": "code",
   "execution_count": 482,
   "metadata": {},
   "outputs": [],
   "source": [
    "def draw_config_conc(X,S,n_nutrients,title):\n",
    "    \n",
    "    ts = 25\n",
    "    fs = 14\n",
    "    sz = 10\n",
    "    \n",
    "    \n",
    "    indicator = 0\n",
    "    \n",
    "    shp = np.shape(X)\n",
    "    \n",
    "    fig, ax = plt.subplots(1,3,figsize=(sz,int(sz/2)))\n",
    "    fig.suptitle(title,fontsize=ts)\n",
    "    \n",
    "    ax[0].imshow(X[:,:,0], cmap='hot')\n",
    "    ax[0].set_title('XY, Z=0',fontsize=fs)\n",
    "    ax[0].axis('off')\n",
    "    \n",
    "    ax[1].imshow(X[:,:,4], cmap='hot')\n",
    "    ax[1].set_title('XY, Z=20um',fontsize=fs)\n",
    "    ax[1].axis('off')\n",
    "    \n",
    "    ax[2].imshow(X[:,int(shp[1]/2),:].transpose(), cmap='hot')\n",
    "    ax[2].set_title('XZ',fontsize=fs)\n",
    "    ax[2].invert_yaxis()\n",
    "    ax[2].axis('off')\n",
    "    plt.show()\n",
    "    \n",
    "    fig, ax = plt.subplots(1,n_nutrients+1,figsize=(sz,int(sz/2)))\n",
    "    \n",
    "    ax[0].hist(X[X!=0].flatten(),color='k')\n",
    "    ax[0].set(xlabel ='strain type',ylabel='count')\n",
    "    ax[0].set_title('strain distribution')\n",
    "    \n",
    "    plt_number = 1\n",
    "    \n",
    "    for nn in range(n_nutrients):\n",
    "        \n",
    "        indicator += 1\n",
    "        \n",
    "        ax[plt_number].imshow(S[nn,:,:,0], cmap='Greys')\n",
    "        ax[plt_number].set_title('external nutrient %s XY'%indicator,fontsize=fs)\n",
    "        ax[plt_number].axis('off')\n",
    "        \n",
    "        plt_number += 1\n",
    "        \n",
    "    plt.show()"
   ]
  },
  {
   "cell_type": "code",
   "execution_count": 483,
   "metadata": {},
   "outputs": [
    {
     "name": "stdout",
     "output_type": "stream",
     "text": [
      "one 24 hour simulation took 1078.0 minutes\n",
      "Done! :D\n"
     ]
    }
   ],
   "source": [
    "density = 5\n",
    "betas = [0.01,0.01]\n",
    "#initialize\n",
    "cells,X = initialize_population(side_len,cell_size,n_strains,density,n_nutrients,dependencies,alphas,d,X,cell_to_diff_ratio)\n",
    "\n",
    "#save_data(X,S,time,dt_cell,filepath)\n",
    "\n",
    "#main loop\n",
    "begin_time = tm.time()\n",
    "#draw_config_conc(X,S,n_nutrients,'initial configuration')\n",
    "for tt in range(nsteps):\n",
    "    \n",
    "    S = update_nutrients(S,DS,diff_sides,dists,n_nutrients,cells,X,dt_diff,alphas,betas,gamma_list*1)\n",
    "    \n",
    "    new_cells,X_upd = iterate_life_and_death(cells,dt,alphas,km_list,r_list,n_nutrients,S,X)\n",
    "    \n",
    "    cells.extend(new_cells)\n",
    "    X = X + X_upd\n",
    "\n",
    "    \"\"\"\n",
    "    if tt%40==0:\n",
    "        draw_config_conc(X,S,n_nutrients,'configuration t = %s h'%int(tt*dt))\n",
    "    \"\"\"\n",
    "    \"\"\"\n",
    "    if time[tt]%10==0: #take 1 hour timepoints\n",
    "        #print('time = %s'%int(time[tt]*dt_cell),' hours')\n",
    "        save_data(X,S,time,dt_cell,filepath)\n",
    "    \"\"\"\n",
    "    \n",
    "end_time = tm.time()\n",
    "\n",
    "print('one %s'%t_final + ' hour simulation took %s minutes'%round((end_time-begin_time)/60,0))\n",
    "    \n",
    "print('Done! :D')\n"
   ]
  },
  {
   "cell_type": "code",
   "execution_count": 484,
   "metadata": {},
   "outputs": [
    {
     "data": {
      "image/png": "[encoded data removed]",
      "text/plain": [
       "<Figure size 720x360 with 3 Axes>"
      ]
     },
     "metadata": {
      "needs_background": "light"
     },
     "output_type": "display_data"
    },
    {
     "data": {
      "image/png": "[encoded data removed]",
      "text/plain": [
       "<Figure size 720x360 with 3 Axes>"
      ]
     },
     "metadata": {
      "needs_background": "light"
     },
     "output_type": "display_data"
    }
   ],
   "source": [
    "draw_config_conc(X,S,n_nutrients,'configuration t = %s h'%int(tt*dt))"
   ]
  },
  {
   "cell_type": "code",
   "execution_count": null,
   "metadata": {},
   "outputs": [],
   "source": []
  },
  {
   "cell_type": "code",
   "execution_count": null,
   "metadata": {},
   "outputs": [],
   "source": []
  }
 ],
 "metadata": {
  "kernelspec": {
   "display_name": "Python 3",
   "language": "python",
   "name": "python3"
  },
  "language_info": {
   "codemirror_mode": {
    "name": "ipython",
    "version": 3
   },
   "file_extension": ".py",
   "mimetype": "text/x-python",
   "name": "python",
   "nbconvert_exporter": "python",
   "pygments_lexer": "ipython3",
   "version": "3.7.6"
  }
 },
 "nbformat": 4,
 "nbformat_minor": 4
}
